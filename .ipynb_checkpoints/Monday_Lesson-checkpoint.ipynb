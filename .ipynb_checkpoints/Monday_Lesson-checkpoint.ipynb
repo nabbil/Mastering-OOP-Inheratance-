{
 "cells": [
  {
   "cell_type": "markdown",
   "metadata": {},
   "source": [
    "# Advanced Object-Oriented-Programming (OOP)"
   ]
  },
  {
   "cell_type": "markdown",
   "metadata": {},
   "source": [
    "## Tasks Today:\n",
    "\n",
    "1) <b>Creating Multiple Instances Through Loops</b> <br>\n",
    " &nbsp;&nbsp;&nbsp;&nbsp; a) Using Loops <br>\n",
    " &nbsp;&nbsp;&nbsp;&nbsp; b) Using Multiple Lists with Loops <br>\n",
    " &nbsp;&nbsp;&nbsp;&nbsp; c) Using List Comprehension with Classes<br>\n",
    " &nbsp;&nbsp;&nbsp;&nbsp; d) In-Class Exercise #1 <br>\n",
    "2) <b>Magic Methods</b> <br>\n",
    " &nbsp;&nbsp;&nbsp;&nbsp; a) \\__str\\__ <br>\n",
    " &nbsp;&nbsp;&nbsp;&nbsp; b) \\__add\\__ <br>\n",
    " &nbsp;&nbsp;&nbsp;&nbsp; c) Overriding Magic Methods <br>\n",
    " &nbsp;&nbsp;&nbsp;&nbsp; d) In-Class Exercise #2 <br>\n",
    "3) <b>Inheritance & Method Overriding (recap)</b> <br>\n",
    " &nbsp;&nbsp;&nbsp;&nbsp; a) Inheriting (recap)  <br>\n",
    " &nbsp;&nbsp;&nbsp;&nbsp; b) Overriding Inherited Magic Methods <br>\n",
    " &nbsp;&nbsp;&nbsp;&nbsp; c) Inheriting Multiple Classes <br>\n",
    " &nbsp;&nbsp;&nbsp;&nbsp; d) In-Class Exercise #3 <br>"
   ]
  },
  {
   "cell_type": "markdown",
   "metadata": {},
   "source": [
    "## Creating Multiple Instances Through Loops <br>\n",
    "<p>We can use loops to create multiple instances of a single object in just a couple of lines, even just one line.</p>"
   ]
  },
  {
   "cell_type": "markdown",
   "metadata": {},
   "source": [
    "#### Using Loops"
   ]
  },
  {
   "cell_type": "code",
   "execution_count": null,
   "metadata": {},
   "outputs": [],
   "source": [
    "#Presentation Code\n",
    "        \n",
    "class Dog():\n",
    "    def __init__(self,name,legs):\n",
    "        self.name= name\n",
    "        self.legs= legs \n",
    "    def printInfo(self):\n",
    "        print(\"{} had {} legs\".format(self.name,self.legs))\n",
    "        \n",
    "        \n",
    "# multiple instances assigned into different variables\n",
    "dog1 = Dog('Lassie', 4)\n",
    "dog2 = Dog('Max', 4)\n",
    "\n",
    "# dog1.printInfo()\n",
    "# dog2.printInfo()\n",
    "\n",
    "\n",
    "# multiple instances using a for loop, stored into a list\n",
    "dogs = []\n",
    "\n",
    "\n",
    "# this loop will create 5 instances of dog, with the name max, and legs of i\n",
    "#presentation Code\n",
    "\n",
    "for i in range(5):\n",
    "    dogs.append(Dog(\"Max\",i))\n",
    "    \n",
    "\n",
    "for i in range(len(dogs)):\n",
    "    dogs[i].printInfo()\n",
    "\n",
    "\n",
    "\n",
    "\n",
    "    \n",
    "# call printInfo for each dog using another for loop\n",
    "# print(dogs)\n",
    "\n",
    "# dogs[0].printInfo()\n",
    "\n",
    "#Presentation Code"
   ]
  },
  {
   "cell_type": "markdown",
   "metadata": {},
   "source": [
    "#### Using Multiple Lists with Loops"
   ]
  },
  {
   "cell_type": "code",
   "execution_count": null,
   "metadata": {},
   "outputs": [],
   "source": [
    "names=[\"Max\",\"Sam\",\"Clifford\",\"Lassie\",\"Butch\"]\n",
    "dogs= []\n",
    "\n",
    "for i in range (len(names)):\n",
    "    dogs.append(Dog(names[i],4))\n",
    "    \n",
    "for i in range(len(dogs)):\n",
    "    dogs[i].printInfo()"
   ]
  },
  {
   "cell_type": "markdown",
   "metadata": {},
   "source": [
    "#### Using List Comprehension with Classes"
   ]
  },
  {
   "cell_type": "code",
   "execution_count": null,
   "metadata": {},
   "outputs": [],
   "source": [
    "'''\n",
    "Same as above but this time no FOR LOOP!!!!!!\n",
    "'''\n",
    "\n",
    "dogs = [Dog(names[i],4) for i in range(len(names))]\n",
    "for dog in dogs:\n",
    "    dog.printInfo()"
   ]
  },
  {
   "cell_type": "markdown",
   "metadata": {},
   "source": [
    "#### In-Class Exercise #1 - Use List Comprehension to create multiple 'Dog' objects using the lists below... <br>\n",
    "<p>names = ['max', 'lassy', 'sammi']<br>colors=['brown', 'black', 'mix']</p>"
   ]
  },
  {
   "cell_type": "code",
   "execution_count": null,
   "metadata": {},
   "outputs": [],
   "source": [
    "class Cat():\n",
    "    def __init__(self,name,color):\n",
    "        self.name= name\n",
    "        self.color= color\n",
    "        \n",
    "    def show(self):\n",
    "        print(\"{} is the color {}\".format(self.name,self.color))\n",
    "        \n",
    "names = ['max', 'lassy', 'sammi']\n",
    "colors=['brown', 'black', 'mix']\n",
    "\n",
    "cats=[]\n",
    "\n",
    " #The LAME way of doing it\n",
    "\n",
    "# for i in range(len(names)):\n",
    "#     cats.append(Cat(names[i],colors[i]))\n",
    "    \n",
    "# for i in range(len(cats)):\n",
    "#     cats[i].show()\n",
    "    \n",
    "#The COOL way of doing it\n",
    "\n",
    "cats=[Cat(names[i],colors[i])for i in range (len(names))]\n",
    "for cat in cats:\n",
    "    cat.show()\n",
    "\n"
   ]
  },
  {
   "cell_type": "markdown",
   "metadata": {},
   "source": [
    "## Magic Methods <br>\n",
    "<p>Magic methods are any method that begins and ends with two underscores... You've already seen one of them in __init__(). Magic methods are the general functionality of an object, and you have the ability to overwrite what those methods do, giving you flexibility in your program.</p>"
   ]
  },
  {
   "cell_type": "markdown",
   "metadata": {},
   "source": [
    "#### \\__str\\__ <br>\n",
    "<p>This is the output of an object when you print the object itself.</p>"
   ]
  },
  {
   "cell_type": "code",
   "execution_count": null,
   "metadata": {},
   "outputs": [],
   "source": [
    "'''\n",
    "\n",
    "'''"
   ]
  },
  {
   "cell_type": "markdown",
   "metadata": {},
   "source": [
    "#### \\__add\\__"
   ]
  },
  {
   "cell_type": "code",
   "execution_count": null,
   "metadata": {},
   "outputs": [],
   "source": [
    "a=100\n",
    "a.__add__(50)\n",
    "\n",
    "class Dog():\n",
    "    def __init__(self,name,color,legs):\n",
    "        self.color= color\n",
    "        self.legs= legs\n",
    "        self.name= name\n",
    "        \n",
    "    def __add__(self, extra_number):\n",
    "        if type (extra_number) != int:\n",
    "            return self.legs + extra_number.legs\n",
    "        else:\n",
    "            return self.legs + extra_number\n",
    "dog1= Dog(\"max\",\"mixed\",4)\n",
    "dog2= Dog(\"Lassy\",\"black\",4)\n",
    "\n",
    "num_legs= dog2 + dog1\n",
    "\n",
    "print(num_legs)"
   ]
  },
  {
   "cell_type": "markdown",
   "metadata": {},
   "source": [
    "#### Overriding Magic Methods"
   ]
  },
  {
   "cell_type": "code",
   "execution_count": null,
   "metadata": {},
   "outputs": [],
   "source": [
    "# see above\n",
    "\n",
    "class Person():\n",
    "    def __init__ (self,name,age,number_of_toes):\n",
    "        self.name= name\n",
    "        self.age= age\n",
    "        self.number_of_toes= number_of_toes\n",
    "    def __str__(self):\n",
    "        return \"{} is {} years old and has {} toes\".format(self.name,self.age,self.number_of_toes)\n",
    "        #the __str__ is looking for a string to be returned to it, if it doesn't see it it \n",
    "jack= Person(\"Jack\",\"24\",\"10\")\n",
    "print(jack)"
   ]
  },
  {
   "cell_type": "markdown",
   "metadata": {},
   "source": [
    "#### In-Class Exercise #2 - Google another magic method and overwrite it's functionality..."
   ]
  },
  {
   "cell_type": "code",
   "execution_count": 14,
   "metadata": {},
   "outputs": [
    {
     "name": "stdout",
     "output_type": "stream",
     "text": [
      "-4\n"
     ]
    }
   ],
   "source": [
    "class Pizza():\n",
    "    def __init__(self, name, shape, ingredients):\n",
    "        self.name = name\n",
    "        self.color = shape\n",
    "        self.ingredients = ingredients\n",
    "        \n",
    "        #Override the__add__ magic method\n",
    "        \n",
    "    def __sub__(self, extra_number):\n",
    "        if type(extra_number) != int:\n",
    "            return self.ingredients - extra_number.ingredients\n",
    "        else:\n",
    "            return self.ingredients -  extra_number \n",
    "\n",
    "pizza1 = Pizza(\"DeepDish\", \"round\", 7)\n",
    "pizza2 = Pizza(\"ThinCrust\", \"oval\", 3)\n",
    "\n",
    "num_ingredients = pizza2 - pizza1\n",
    "print(num_ingredients)"
   ]
  },
  {
   "cell_type": "markdown",
   "metadata": {},
   "source": [
    "## Inheritance & Method Overriding (recap)"
   ]
  },
  {
   "cell_type": "markdown",
   "metadata": {},
   "source": [
    "#### Inheriting (recap)"
   ]
  },
  {
   "cell_type": "code",
   "execution_count": 1,
   "metadata": {},
   "outputs": [
    {
     "name": "stdout",
     "output_type": "stream",
     "text": [
      "This dog is Mammal\n",
      "Mammal is part of the Frank species\n"
     ]
    }
   ],
   "source": [
    "class Animal():\n",
    "    def __init__(self,species):\n",
    "        self.species= species\n",
    "        \n",
    "    def __str__(self):\n",
    "        return \"This dog is {}\".format(self.species)\n",
    "\n",
    "class Dog(Animal):\n",
    "    def __init__(self,species,name):\n",
    "        self.name= name\n",
    "        Animal.__init__(self,species) #We could have also done super().__init__(species)\n",
    "        \n",
    "    def __str__(self):\n",
    "        return \"{} is part of the {} species\".format(self.name,self.species)\n",
    "    \n",
    "mammal= Animal(\"Mammal\")\n",
    "dog= Dog(\"Frank\",\"Mammal\")\n",
    "print(mammal)\n",
    "print(dog)"
   ]
  },
  {
   "cell_type": "markdown",
   "metadata": {},
   "source": [
    "#### Overriding Inherited Magic Methods"
   ]
  },
  {
   "cell_type": "code",
   "execution_count": null,
   "metadata": {},
   "outputs": [],
   "source": [
    "# see above\n",
    "\n",
    "clss Dog():\n",
    "    def __init__ (self,name,color,legs):\n",
    "        self.name= name\n",
    "        self.color= color\n",
    "        self.legs= legs\n",
    "    def __eq__(self,extra):\n",
    "        if self.legs == extra.;egs:\n",
    "            return True\n",
    "        else:\n",
    "            return False\n",
    "dog1= Dog(\"Max\",\"Mixed\",4)"
   ]
  },
  {
   "cell_type": "markdown",
   "metadata": {},
   "source": [
    "#### Inheriting Multiple Classes"
   ]
  },
  {
   "cell_type": "code",
   "execution_count": null,
   "metadata": {},
   "outputs": [],
   "source": []
  },
  {
   "cell_type": "code",
   "execution_count": 2,
   "metadata": {},
   "outputs": [
    {
     "name": "stdout",
     "output_type": "stream",
     "text": [
      "Bobby is a part of the Canine species and runs 30 mph\n"
     ]
    }
   ],
   "source": [
    "# Instead of super(), must specify which parent it belongs to...\n",
    "# Parent1.__init__(self, ...)\n",
    "# Parent2.__init__(self, ...)\n",
    "\n",
    "class Physics():\n",
    "    def __init__(self,speed):\n",
    "        self.gravity= 9.8\n",
    "        self.speed= speed\n",
    "class Animal():\n",
    "    def __init__(self,species):\n",
    "        self.species= species\n",
    "    def __str__(self):\n",
    "        return \"This is a {}\".format(self.species)\n",
    "    \n",
    "class Dog():\n",
    "    def __init__(self, species, name, speed):\n",
    "        self.name= name\n",
    "        Animal.__init__(self,species)\n",
    "        Physics.__init__(self,speed)\n",
    "        \n",
    "    def __str__(self):\n",
    "        return \"{} is a part of the {} species and runs {} mph\".format(self.name,self.species,self.speed)\n",
    "dog1= Dog(\"Canine\",\"Bobby\",30)\n",
    "    \n",
    "print(dog1)"
   ]
  },
  {
   "cell_type": "markdown",
   "metadata": {},
   "source": [
    "#### In-Class Exercise #3 - Create a transportation class, a physics class, and a bus class <br>\n",
    "<p>Create a transportation class, a physics class, and a bus class... Have the Bus class inherit both the transportation class and physics class. The physics class should have an attribute of speed, and print out the speed, plus have an acceleration method. The transportation class should have a 'type_of_transportation' attribute, and print the type(type_of_transportation [i.e road/air]) that is being used. The bus class should have attributes that describe the bus, such as; wheels, color, size, etc. Overwrite the __str__ method so that when you print the object, it prints out the bus information, and the speed.</p>"
   ]
  },
  {
   "cell_type": "code",
   "execution_count": 7,
   "metadata": {},
   "outputs": [
    {
     "name": "stdout",
     "output_type": "stream",
     "text": [
      "You are riding on a LARGE BLUE color BUS with 6 wheels going 125 mph\n"
     ]
    }
   ],
   "source": [
    "class Transportation():\n",
    "    def __init__(self,trans_type):\n",
    "        self.trans_type= trans_type\n",
    "    \n",
    "class Physics():\n",
    "    def __init__(self,speed):\n",
    "        self.speed= speed\n",
    "    \n",
    "class Bus():\n",
    "    def __init__(self,size,color,trans_type,wheels,speed):\n",
    "        self.wheels=wheels\n",
    "        self.color= color\n",
    "        self.size= size\n",
    "        Transportation.__init__(self,trans_type)\n",
    "        Physics.__init__(self,speed)    \n",
    "    def __str__(self):\n",
    "        return \"You are riding on a {} {} color {} with {} wheels going {} mph\".format(self.size,self.color,self.trans_type,self.wheels,self.speed)\n",
    "    \n",
    "bus1= Bus(\"LARGE\",\"BLUE\",\"BUS\",6,125)\n",
    "    \n",
    "print(bus1)"
   ]
  }
 ],
 "metadata": {
  "kernelspec": {
   "display_name": "Python 3",
   "language": "python",
   "name": "python3"
  },
  "language_info": {
   "codemirror_mode": {
    "name": "ipython",
    "version": 3
   },
   "file_extension": ".py",
   "mimetype": "text/x-python",
   "name": "python",
   "nbconvert_exporter": "python",
   "pygments_lexer": "ipython3",
   "version": "3.7.3"
  }
 },
 "nbformat": 4,
 "nbformat_minor": 2
}
